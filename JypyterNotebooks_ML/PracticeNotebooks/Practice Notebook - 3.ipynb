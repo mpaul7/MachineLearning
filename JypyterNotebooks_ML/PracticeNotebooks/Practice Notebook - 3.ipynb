{
 "cells": [
  {
   "cell_type": "markdown",
   "id": "9067d488",
   "metadata": {},
   "source": [
    "## Practice Notebook - 3\n",
    "\n",
    "### Ensemble Methods\n",
    "- We did two boosting ensemble methods. \n",
    "- There is another boosting method called XGBoost method. \n",
    "- It is desiged for speed and performance. \n",
    "\n",
    "### Problem Statement \n",
    "#### Part - 1\n",
    "- Build a classification model using XGBoost classifier. \n",
    "- Explore how XGBoost automatically handles missing values.  \n",
    "    - Study a classification probelm - \n",
    "        - a.  when not removing missing values, and using any other classificaiton model (baseline case) \n",
    "        - b. when using xgboost to handle missing values, or \n",
    "        - c. when removing /imputing missing values manually and then using classification model used in case (a)\n",
    "        - d. do the comparison, and see if XGBoost handles missing values efficiently.\n",
    "- how to use Feature selecton using XGBoost. Hint: explore model feature_importances_ parameter and and SelectFromModel() class\n",
    "\n",
    "#### Part - II\n",
    "- How to tune XGBoost for multithreading support. "
   ]
  },
  {
   "cell_type": "code",
   "execution_count": null,
   "id": "f430af59",
   "metadata": {},
   "outputs": [],
   "source": []
  }
 ],
 "metadata": {
  "kernelspec": {
   "display_name": "Python 3 (ipykernel)",
   "language": "python",
   "name": "python3"
  },
  "language_info": {
   "codemirror_mode": {
    "name": "ipython",
    "version": 3
   },
   "file_extension": ".py",
   "mimetype": "text/x-python",
   "name": "python",
   "nbconvert_exporter": "python",
   "pygments_lexer": "ipython3",
   "version": "3.9.7"
  }
 },
 "nbformat": 4,
 "nbformat_minor": 5
}
