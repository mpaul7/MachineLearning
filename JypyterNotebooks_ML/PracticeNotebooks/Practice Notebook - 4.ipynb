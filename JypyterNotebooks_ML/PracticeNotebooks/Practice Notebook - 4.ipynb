{
 "cells": [
  {
   "cell_type": "markdown",
   "id": "740d0387",
   "metadata": {},
   "source": [
    "## Practice Notebook - 4\n",
    "\n",
    "### Classification Project\n",
    "\n",
    "#### Problem Statement\n",
    "\n",
    "- Build a classification project\n",
    "- Create a baseline model without including any workflow. [input] - [classifier] - [predictions]\n",
    "- then apply all the possible enhancements to improve the performance. For example, feature selection, hyperparameter tuning, pipeline optimization, data transformation, data preparation, algorithm selection, ensamble methods etc.  \n",
    "- Compare it with the baseline...."
   ]
  },
  {
   "cell_type": "code",
   "execution_count": null,
   "id": "c1c3fb7c",
   "metadata": {},
   "outputs": [],
   "source": []
  }
 ],
 "metadata": {
  "kernelspec": {
   "display_name": "Python 3 (ipykernel)",
   "language": "python",
   "name": "python3"
  },
  "language_info": {
   "codemirror_mode": {
    "name": "ipython",
    "version": 3
   },
   "file_extension": ".py",
   "mimetype": "text/x-python",
   "name": "python",
   "nbconvert_exporter": "python",
   "pygments_lexer": "ipython3",
   "version": "3.9.7"
  }
 },
 "nbformat": 4,
 "nbformat_minor": 5
}
