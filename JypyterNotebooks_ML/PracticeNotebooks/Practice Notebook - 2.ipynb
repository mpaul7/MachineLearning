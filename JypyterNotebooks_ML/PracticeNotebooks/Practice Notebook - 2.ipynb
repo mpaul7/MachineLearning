{
 "cells": [
  {
   "cell_type": "markdown",
   "id": "51f9c393",
   "metadata": {},
   "source": [
    "## Practice Notebook - 2\n",
    "\n",
    "### Feature Selection\n",
    "\n",
    "### Problem Statement\n",
    "\n",
    "#### Part - 1\n",
    "- First identify what are the different types of input and output variables. (e.g numerical, catagorical.. etc)\n",
    "- What are the diffenent feature selection methods corresponding to input/output variable types. Write a Python code to implement these methods.\n",
    "\n",
    "#### Part - II\n",
    "- Explore Recursive Feature Elimination (RFE) method. \n",
    "- Can we use different algorithm in this methods to do feature selection? If yes, try RFE with all algorithms, and comapre performance. \n",
    "- Practice REF for classification and regression\n",
    "- How to tune RFE hyperparameter tuning. \n",
    "- How to automatically select number of features in RFE. "
   ]
  },
  {
   "cell_type": "code",
   "execution_count": null,
   "id": "e2024277",
   "metadata": {},
   "outputs": [],
   "source": []
  }
 ],
 "metadata": {
  "kernelspec": {
   "display_name": "Python 3 (ipykernel)",
   "language": "python",
   "name": "python3"
  },
  "language_info": {
   "codemirror_mode": {
    "name": "ipython",
    "version": 3
   },
   "file_extension": ".py",
   "mimetype": "text/x-python",
   "name": "python",
   "nbconvert_exporter": "python",
   "pygments_lexer": "ipython3",
   "version": "3.9.7"
  }
 },
 "nbformat": 4,
 "nbformat_minor": 5
}
