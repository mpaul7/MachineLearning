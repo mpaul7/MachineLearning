{
 "cells": [
  {
   "cell_type": "markdown",
   "id": "8fa74e3c",
   "metadata": {},
   "source": [
    "## Practice Notebook - 1\n",
    "\n",
    "### Data Preparation\n",
    "\n",
    "### Problem Statement\n",
    " \n",
    "#### Part - I\n",
    "- Identify /delete datapoints that have single value\n",
    "- Identify columns that have very few unique values, this is an example of low variance. What to do with this kind of data. Hint: explore VarianceThreshold() class\n",
    "- Identify / delete duplicate data\n",
    "\n",
    "#### Part - II\n",
    "- We covered outlier detection and removal methods - Standard deviation method and Interquartile Range method\n",
    "- Explore Automatic Outlier Detection Methods. Hint: LocalOutlierFactor(). how it works and compare with first two methods. \n",
    "\n",
    "#### Part - III\n",
    "- We did statistical imputation of missing values with mean value of the column.\n",
    "- Explore what other statistical values can be used for data imputation using SimpleImuter() class.\n",
    "- Check what is the variance in the model performance with differnet statistical values. \n",
    "- Also explore KNNImputer() class, and IterativeImputer() class. "
   ]
  },
  {
   "cell_type": "code",
   "execution_count": null,
   "id": "79e8ce18",
   "metadata": {},
   "outputs": [],
   "source": []
  }
 ],
 "metadata": {
  "kernelspec": {
   "display_name": "Python 3 (ipykernel)",
   "language": "python",
   "name": "python3"
  },
  "language_info": {
   "codemirror_mode": {
    "name": "ipython",
    "version": 3
   },
   "file_extension": ".py",
   "mimetype": "text/x-python",
   "name": "python",
   "nbconvert_exporter": "python",
   "pygments_lexer": "ipython3",
   "version": "3.9.7"
  }
 },
 "nbformat": 4,
 "nbformat_minor": 5
}
