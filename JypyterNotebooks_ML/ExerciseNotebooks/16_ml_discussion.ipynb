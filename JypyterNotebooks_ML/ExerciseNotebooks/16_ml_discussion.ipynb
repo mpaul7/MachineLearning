{
 "cells": [
  {
   "cell_type": "markdown",
   "id": "24703485",
   "metadata": {},
   "source": [
    "## Discussion\n",
    "\n",
    "- We started from here \n",
    "- [input] [...] [...] [...] [...] [...] [...] [predictions]\n",
    "\n",
    "### We did\n",
    "- Visual analysis of data\n",
    "- Statistical analysis\n",
    "- Data transformations\n",
    "- Prepared Train/Test data\n",
    "- Cross validations\n",
    "- ML Pipeline building\n",
    "- ML Pipeline optimization\n",
    "- ML Algorithm Tuning\n",
    "- Feature selection\n",
    "- Algorithm selection\n",
    "- Ensemble methods\n",
    "- Save / load models\n"
   ]
  },
  {
   "cell_type": "markdown",
   "id": "1db0a102",
   "metadata": {},
   "source": [
    "### Trade-offs\n",
    "- Define objective function\n",
    "- tuning / selection / elimination\n",
    "- performance, execution time, etc.\n",
    "- exploit parallel processing / multithreading capabilities provided by sklearn or other libraries.\n",
    "- Real-time data ingestion (rate) / processing / performance,  etc. "
   ]
  },
  {
   "cell_type": "code",
   "execution_count": null,
   "id": "9970e0bd",
   "metadata": {},
   "outputs": [],
   "source": []
  }
 ],
 "metadata": {
  "kernelspec": {
   "display_name": "Python 3 (ipykernel)",
   "language": "python",
   "name": "python3"
  },
  "language_info": {
   "codemirror_mode": {
    "name": "ipython",
    "version": 3
   },
   "file_extension": ".py",
   "mimetype": "text/x-python",
   "name": "python",
   "nbconvert_exporter": "python",
   "pygments_lexer": "ipython3",
   "version": "3.9.7"
  }
 },
 "nbformat": 4,
 "nbformat_minor": 5
}
