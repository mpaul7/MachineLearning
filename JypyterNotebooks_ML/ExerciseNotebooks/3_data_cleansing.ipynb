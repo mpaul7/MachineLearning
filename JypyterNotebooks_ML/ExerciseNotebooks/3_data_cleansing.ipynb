{
 "cells": [
  {
   "cell_type": "markdown",
   "id": "632d1466",
   "metadata": {},
   "source": [
    "## Problem Statement\n",
    "- Load data set \n",
    "- missing values\n",
    "- Statistical Impuation of missing values\n",
    "\n",
    "## Description\n",
    "- Real-world data often has missing values. \n",
    "- Data can have missing values for a number of reasons such as observations that were not recorded and data corruption. \n",
    "- Handling missing data is important as many machine learning algorithms do not support data with missing values.\n",
    "\n"
   ]
  },
  {
   "cell_type": "markdown",
   "id": "2771a07e",
   "metadata": {},
   "source": [
    "#### Load Python libraries and dataset"
   ]
  },
  {
   "cell_type": "code",
   "execution_count": null,
   "id": "b911a325",
   "metadata": {},
   "outputs": [],
   "source": [
    "import pandas as pd\n",
    "from numpy import set_printoptions, nan, isnan\n"
   ]
  },
  {
   "cell_type": "code",
   "execution_count": null,
   "id": "19da5798",
   "metadata": {},
   "outputs": [],
   "source": [
    "data = pd.read_csv(\"../data/pima-indians-diabetes.csv\")"
   ]
  },
  {
   "cell_type": "markdown",
   "id": "a8e160e4",
   "metadata": {},
   "source": [
    "#### Check Your Data"
   ]
  },
  {
   "cell_type": "code",
   "execution_count": null,
   "id": "8c0548d3",
   "metadata": {},
   "outputs": [],
   "source": [
    "# check first 20 rows of the dataset\n",
    "print(data.head(5))"
   ]
  },
  {
   "cell_type": "markdown",
   "id": "3ef3a573",
   "metadata": {},
   "source": [
    "## Find Missing Values"
   ]
  },
  {
   "cell_type": "markdown",
   "id": "44827c6f",
   "metadata": {},
   "source": [
    "#### Count the number of missing values for each column"
   ]
  },
  {
   "cell_type": "code",
   "execution_count": null,
   "id": "caf02151",
   "metadata": {},
   "outputs": [],
   "source": [
    "# count the number of data points where valaue is zero\n",
    "num_missing = (data[['plas', 'skin', 'test', 'mass', 'pedi']] == 0).sum()\n",
    "# report the results\n",
    "print(num_missing)"
   ]
  },
  {
   "cell_type": "markdown",
   "id": "7b56da9a",
   "metadata": {},
   "source": [
    "## Handle  Missing Values\n",
    "- Here we will see two methods to handle missing values\n",
    "- 1. Remove the missing values - the implementataion of this method depends upon on the volume of data. \n",
    "- 2. Impute missing value - replacing the missing value with statisticala value (e.g. mean)"
   ]
  },
  {
   "cell_type": "markdown",
   "id": "49d26901",
   "metadata": {},
   "source": [
    "## Remove rows with missing values"
   ]
  },
  {
   "cell_type": "markdown",
   "id": "ca2b781b",
   "metadata": {},
   "source": [
    "#### Replace '0' values with 'nan'"
   ]
  },
  {
   "cell_type": "code",
   "execution_count": null,
   "id": "7740843d",
   "metadata": {},
   "outputs": [],
   "source": [
    "data[['plas', 'skin', 'test', 'mass', 'pedi']] = data[['plas', 'skin', 'test', 'mass', 'pedi']].replace(0, nan)\n",
    "# count the number of nan values in each column\n",
    "print(data.isnull().sum())"
   ]
  },
  {
   "cell_type": "code",
   "execution_count": null,
   "id": "a46c0bbf",
   "metadata": {},
   "outputs": [],
   "source": [
    "# check data witn NaN values\n",
    "print(data.head(20))"
   ]
  },
  {
   "cell_type": "code",
   "execution_count": null,
   "id": "81579fe5",
   "metadata": {},
   "outputs": [],
   "source": [
    "print(f'data shape before removing missing values\\n=========================================\\n{data.shape}')\n",
    "# drop rows with missing values\n",
    "data.dropna(inplace=True)\n",
    "# summarize the shape of the data with missing rows removed\n",
    "print(f'\\ndata shape after removing missing values\\n=========================================\\n{data.shape}')"
   ]
  },
  {
   "cell_type": "markdown",
   "id": "19e86134",
   "metadata": {},
   "source": [
    "## Statistical Impuation of Missing Values\n",
    "\n",
    "**What is missing data imputation?**\n",
    "\n",
    "- It is a method to identify missing values and replace them with a value prior to modeling the prediction task.\n",
    "\n",
    "**Common approach for data imputation**\n",
    "- Calculate a statistical value for each column (such as a mean) and replace all missing values for that column with the statistic."
   ]
  },
  {
   "cell_type": "code",
   "execution_count": null,
   "id": "d2214456",
   "metadata": {},
   "outputs": [],
   "source": [
    "data_horse = pd.read_csv(\"../data/horse.csv\", header=None, na_values='?')\n",
    "print(data_horse.head(5))\n",
    "print(data_horse.columns)\n",
    "# summarize the number of rows with missing values for each column\n",
    "for i in range(data_horse.shape[1]):\n",
    "    # count number of rows with missing values\n",
    "    n_miss = data_horse[[i]].isnull().sum()\n",
    "    perc = n_miss / data_horse.shape[0] * 100\n",
    "    print('> %d, Missing: %d (%.1f%%)' % (i, n_miss, perc))"
   ]
  },
  {
   "cell_type": "code",
   "execution_count": null,
   "id": "42a3e10d",
   "metadata": {},
   "outputs": [],
   "source": [
    "# split into input and output elements\n",
    "data1 = data_horse.values\n",
    "ix = [i for i in range(data1.shape[1]) if i != 23]\n",
    "#print(ix)\n",
    "X, y = data1[:, ix], data1[:, 23]\n",
    "#print(X)\n",
    "#print(y)"
   ]
  },
  {
   "cell_type": "markdown",
   "id": "34e63db5",
   "metadata": {},
   "source": [
    "## Statistical Imputation With SimpleImputer\n",
    "\n",
    "The scikit-learn machine learning library provides the SimpleImputer class that supports\n",
    "statistical imputation. The SimpleImputer is a data transform that is first confgured based on the type of statistic to\n",
    "calculate for each column, e.g. mean.\n",
    "\n",
    "**Other strategies available in SimpleImputer**\n",
    "\n",
    "strategies = ['mean', 'median', 'most_frequent', 'constant']"
   ]
  },
  {
   "cell_type": "code",
   "execution_count": null,
   "id": "ce6a2f94",
   "metadata": {},
   "outputs": [],
   "source": [
    "# load Python libraries \n",
    "from sklearn.impute import SimpleImputer"
   ]
  },
  {
   "cell_type": "code",
   "execution_count": null,
   "id": "83379917",
   "metadata": {
    "scrolled": true
   },
   "outputs": [],
   "source": [
    "# summarize total missing\n",
    "print('Before Imputation\\n==================\\nMissing: %d' % sum(pd.isnull(X).flatten()))\n",
    "imputer = SimpleImputer(strategy='mean')\n",
    "# fit on the dataset\n",
    "imputer.fit(X)\n",
    "# transsform the dataset\n",
    "X_transformed = imputer.transform(X)\n",
    "#Summarize total misssing\n",
    "print('Before Imputation\\n==================\\nMissing: %d' % sum(pd.isnull(X_transformed).flatten()))\n",
    "print('\\nAfter Imputation\\n==================\\nMissing: %d' % sum(isnan(X_transformed).flatten()))"
   ]
  },
  {
   "cell_type": "code",
   "execution_count": null,
   "id": "a44b1298",
   "metadata": {},
   "outputs": [],
   "source": []
  }
 ],
 "metadata": {
  "kernelspec": {
   "display_name": "Python 3 (ipykernel)",
   "language": "python",
   "name": "python3"
  },
  "language_info": {
   "codemirror_mode": {
    "name": "ipython",
    "version": 3
   },
   "file_extension": ".py",
   "mimetype": "text/x-python",
   "name": "python",
   "nbconvert_exporter": "python",
   "pygments_lexer": "ipython3",
   "version": "3.9.7"
  }
 },
 "nbformat": 4,
 "nbformat_minor": 5
}
