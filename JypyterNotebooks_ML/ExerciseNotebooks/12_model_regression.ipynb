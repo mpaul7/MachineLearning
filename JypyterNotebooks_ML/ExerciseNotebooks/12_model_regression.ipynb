{
 "cells": [
  {
   "cell_type": "markdown",
   "id": "fe60420b",
   "metadata": {},
   "source": [
    "## Problem Statement\n",
    "- Build a regression model\n",
    "- Check the regression metrics"
   ]
  },
  {
   "cell_type": "markdown",
   "id": "82cf9819",
   "metadata": {},
   "source": [
    "#### Load Python libraries and dataset"
   ]
  },
  {
   "cell_type": "code",
   "execution_count": null,
   "id": "fdbabf82",
   "metadata": {},
   "outputs": [],
   "source": [
    "import numpy as np\n",
    "import pandas as pd\n",
    "import matplotlib.pyplot as plt\n",
    "import seaborn as sns\n",
    "from sklearn import datasets\n",
    "from sklearn.model_selection import train_test_split\n",
    "from sklearn.linear_model import LinearRegression"
   ]
  },
  {
   "cell_type": "code",
   "execution_count": null,
   "id": "96935c02",
   "metadata": {},
   "outputs": [],
   "source": [
    "# data = pd.read_csv(\"boston_housing_price_dataset.csv\")\n",
    "import warnings\n",
    "with warnings.catch_warnings():\n",
    "    warnings.filterwarnings(\"ignore\")\n",
    "    boston = datasets.load_boston()"
   ]
  },
  {
   "cell_type": "code",
   "execution_count": null,
   "id": "2d2bdb83",
   "metadata": {},
   "outputs": [],
   "source": [
    "print(boston.DESCR)"
   ]
  },
  {
   "cell_type": "markdown",
   "id": "686d7063",
   "metadata": {},
   "source": [
    "#### Check Your Data"
   ]
  },
  {
   "cell_type": "code",
   "execution_count": null,
   "id": "da120dd4",
   "metadata": {},
   "outputs": [],
   "source": [
    "# print features names of data\n",
    "print(f'Feature names\\n================\\n{boston.feature_names}\\n\\n')\n",
    "\n",
    "print(f'Data\\n=========')\n",
    "data = pd.DataFrame(boston.data, columns = boston.feature_names)\n",
    "data['PRICE'] = boston.target\n",
    "with pd.option_context('expand_frame_repr', False):\n",
    "    print(data.head(5))\n",
    "    \n",
    "print(f'\\n====== Shape of Data =======\\n\\nRows : {data.shape[0]}\\nColumns {data.shape[1]}')"
   ]
  },
  {
   "cell_type": "code",
   "execution_count": null,
   "id": "6de52611",
   "metadata": {},
   "outputs": [],
   "source": [
    "data.info()\n"
   ]
  },
  {
   "cell_type": "code",
   "execution_count": null,
   "id": "c33fdefc",
   "metadata": {},
   "outputs": [],
   "source": [
    "data.describe()"
   ]
  },
  {
   "cell_type": "markdown",
   "id": "4332aa6b",
   "metadata": {},
   "source": [
    "### Exploratory Data Analysis"
   ]
  },
  {
   "cell_type": "code",
   "execution_count": null,
   "id": "ae49597e",
   "metadata": {},
   "outputs": [],
   "source": [
    "sns.set(rc={'figure.figsize':(11.7,8.27)})\n",
    "plt.hist(data['PRICE'], bins=30)\n",
    "plt.xlabel(\"House prices in $1000\")\n",
    "plt.show()"
   ]
  },
  {
   "cell_type": "markdown",
   "id": "7048c7fe",
   "metadata": {},
   "source": [
    "We can see from the plot that the values of PRICE are distributed normally with few outliers. Most of the house are around 20–24 range (in $1000 scale)"
   ]
  },
  {
   "cell_type": "markdown",
   "id": "ee9bf8ac",
   "metadata": {},
   "source": [
    "### Correlation between features and target variable"
   ]
  },
  {
   "cell_type": "code",
   "execution_count": null,
   "id": "23904a84",
   "metadata": {},
   "outputs": [],
   "source": [
    "plt.figure(figsize=(20, 5))\n",
    "\n",
    "features = ['LSTAT', 'RM']\n",
    "target = data['PRICE']\n",
    "\n",
    "for i, col in enumerate(features):\n",
    "    plt.subplot(1, len(features) , i+1)\n",
    "    x = data[col]\n",
    "    y = target\n",
    "    plt.scatter(x, y, marker='o')\n",
    "    plt.title(\"Variation in House prices\")\n",
    "    plt.xlabel(col)\n",
    "    plt.ylabel('\"House prices in $1000\"')"
   ]
  },
  {
   "cell_type": "markdown",
   "id": "4efb12c7",
   "metadata": {},
   "source": [
    "### Inference\n",
    "- The prices increase as the value of RM increases linearly. RM has strong positive positive correlation\n",
    "- The prices tend to decrease with an increase in LSTAT. So, LSTAT has high negative correlation"
   ]
  },
  {
   "cell_type": "markdown",
   "id": "b2693788",
   "metadata": {},
   "source": [
    "### Train Test Split"
   ]
  },
  {
   "cell_type": "code",
   "execution_count": null,
   "id": "1b47e5ff",
   "metadata": {},
   "outputs": [],
   "source": [
    "data_array = data.values"
   ]
  },
  {
   "cell_type": "code",
   "execution_count": null,
   "id": "0a6c7ffd",
   "metadata": {},
   "outputs": [],
   "source": [
    "# split data into train and test \n",
    "X = data_array[:,0:13]\n",
    "y = data_array[:,13]\n",
    "seed = 7\n",
    "test_size = 0.2\n",
    "X_train, X_test, y_train, y_test = train_test_split(X, y, test_size=test_size, random_state=seed)"
   ]
  },
  {
   "cell_type": "code",
   "execution_count": null,
   "id": "bc027fec",
   "metadata": {},
   "outputs": [],
   "source": [
    "# define LinearRegression model and train it.\n",
    "model = LinearRegression()\n",
    "model.fit(X_train, y_train)"
   ]
  },
  {
   "cell_type": "code",
   "execution_count": null,
   "id": "fe7332fc",
   "metadata": {},
   "outputs": [],
   "source": [
    "# predict the output using test data\n",
    "predictions = model.predict(X_test)\n",
    "print(f'\\nPredicted Output\\n===================\\n{predictions}')\n",
    "print(predictions)\n",
    "\n",
    "# Print True data\n",
    "print(f'\\nGround Truth\\n===================\\n{y_test}')"
   ]
  },
  {
   "cell_type": "code",
   "execution_count": null,
   "id": "cc0e4478",
   "metadata": {},
   "outputs": [],
   "source": [
    "plt.scatter(y_test, predictions)\n",
    "plt.xlabel('Actual House Prices ($1000)')\n",
    "plt.ylabel('Predicted House Prices ($1000)')\n",
    "plt.xticks(range(0, int(max(y_test)), 2))\n",
    "plt.yticks(range(0, int(max(y_test)), 2))\n",
    "#plt.plot(range(0, int(max(y_test)), 2), range(0, int(max(y_test)), 2), '--k')\n",
    "plt.title(\"Actual Prices vs Predicted Prices\")"
   ]
  },
  {
   "cell_type": "code",
   "execution_count": null,
   "id": "49e92ee4",
   "metadata": {},
   "outputs": [],
   "source": [
    "from sklearn import metrics"
   ]
  },
  {
   "cell_type": "code",
   "execution_count": null,
   "id": "45c3d933",
   "metadata": {},
   "outputs": [],
   "source": [
    "print('MAE:', metrics.mean_absolute_error(y_test, predictions))\n",
    "print('MSE:', metrics.mean_squared_error(y_test, predictions))\n",
    "print('RMSE:', np.sqrt(metrics.mean_squared_error(y_test, predictions)))\n",
    "print('r2: ', round(model.score(X_test, y_test), 2))"
   ]
  },
  {
   "cell_type": "markdown",
   "id": "cf628be5",
   "metadata": {},
   "source": [
    "#### Considering the RMSE: we can conclude that this model average error is RMSE at 'price', which means RMSE *1000 in money"
   ]
  },
  {
   "cell_type": "markdown",
   "id": "99ee9306",
   "metadata": {},
   "source": [
    "#### Regression Coefficient"
   ]
  },
  {
   "cell_type": "code",
   "execution_count": null,
   "id": "712f8559",
   "metadata": {},
   "outputs": [],
   "source": [
    "# regression coefficients \n",
    "# regression coefficients \n",
    "zip_data = zip(boston.feature_names, model.coef_)\n",
    "output_data = list(zip_data)\n",
    "coefficients = pd.DataFrame(output_data, columns=['feature', 'coefficient'])\n",
    "#coefficients.columns = ['coefficients']\n",
    "print(coefficients)\n"
   ]
  },
  {
   "cell_type": "code",
   "execution_count": null,
   "id": "6fb94cbe",
   "metadata": {},
   "outputs": [],
   "source": [
    "# variance score: 1 means perfect prediction\n",
    "print('Variance score: {}'.format(model.score(X_test, y_test)))"
   ]
  },
  {
   "cell_type": "markdown",
   "id": "8cbc7cb0",
   "metadata": {},
   "source": [
    "### Vistualize a staright line\n",
    " - y = 3x\n",
    " - for one unit increase in x, there is a 3 unit increase in y\n",
    " - x = [1, 2, 3, 4, 5, 6]\n",
    " - y = [3, 6, 9, 12, 15, 18]\n",
    " \n",
    "### Infernce : Boston Data \n",
    "- for one unit increase in **'nox'**, the house prices decrease **'nox' * 1000** dollars\n",
    "- for one unit increase in **'rm'**, house price increase by **'rm' * 1000** dollars\n",
    " "
   ]
  },
  {
   "cell_type": "markdown",
   "id": "3aef8e40",
   "metadata": {},
   "source": [
    "### plot for residual error"
   ]
  },
  {
   "cell_type": "code",
   "execution_count": null,
   "id": "619df9b8",
   "metadata": {},
   "outputs": [],
   "source": [
    "\n",
    "## setting plot style\n",
    "plt.style.use('fivethirtyeight')\n",
    " \n",
    "## plotting residual errors in training data\n",
    "plt.scatter(model.predict(X_train), model.predict(X_train) - y_train,\n",
    "            color = \"green\", s = 10, label = 'Train data')\n",
    " \n",
    "## plotting residual errors in test data\n",
    "plt.scatter(model.predict(X_test), model.predict(X_test) - y_test,\n",
    "            color = \"blue\", s = 10, label = 'Test data')\n",
    " \n",
    "## plotting line for zero residual error\n",
    "plt.hlines(y = 0, xmin = 0, xmax = 50, linewidth = 2)\n",
    " \n",
    "## plotting legend\n",
    "plt.legend(loc = 'upper right')\n",
    " \n",
    "## plot title\n",
    "plt.title(\"Residual errors\")\n",
    " \n",
    "## method call for showing the plot\n",
    "plt.show()"
   ]
  },
  {
   "attachments": {
    "residual_error.PNG": {
     "image/png": "[encoded data removed]"
    }
   },
   "cell_type": "markdown",
   "id": "01198d4e",
   "metadata": {},
   "source": [
    "![residual_error.PNG](attachment:residual_error.PNG)"
   ]
  },
  {
   "cell_type": "code",
   "execution_count": null,
   "id": "d8b48a3f",
   "metadata": {},
   "outputs": [],
   "source": []
  },
  {
   "cell_type": "code",
   "execution_count": null,
   "id": "46fdadf7-1fbd-4470-97f4-1984cf582e82",
   "metadata": {},
   "outputs": [],
   "source": []
  }
 ],
 "metadata": {
  "kernelspec": {
   "display_name": "Python 3 (ipykernel)",
   "language": "python",
   "name": "python3"
  },
  "language_info": {
   "codemirror_mode": {
    "name": "ipython",
    "version": 3
   },
   "file_extension": ".py",
   "mimetype": "text/x-python",
   "name": "python",
   "nbconvert_exporter": "python",
   "pygments_lexer": "ipython3",
   "version": "3.9.7"
  }
 },
 "nbformat": 4,
 "nbformat_minor": 5
}
