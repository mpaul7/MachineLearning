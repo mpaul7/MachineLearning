{
 "cells": [
  {
   "cell_type": "markdown",
   "id": "6d030b30",
   "metadata": {},
   "source": [
    "## Problem Statement\n",
    "- Load data set \n",
    "- Split data into Training dataset and Testing dataset\n",
    "\n",
    "Train Test Split\n",
    "- **Why can't we do train and test the model on same data set?**\n",
    "- model **overfitting** --> model remembers everything....\n",
    "- How to avoid? --->  use different training and testing datasets.\n",
    "- Stragegy: \n",
    "     - split data into two parts. \n",
    "     - Train the algorithm on the first part, \n",
    "     - make predictions on the second part, and \n",
    "     - evaluate the predictions against the expected results. \n",
    "- The size of the split can depend on various factors. \n",
    "- It is common to use 70% of the data for training and the remaining 30% for testing."
   ]
  },
  {
   "cell_type": "markdown",
   "id": "21a19461",
   "metadata": {},
   "source": [
    "#### Load Python libraries and dataset"
   ]
  },
  {
   "cell_type": "code",
   "execution_count": null,
   "id": "43924747",
   "metadata": {},
   "outputs": [],
   "source": [
    "import pandas as pd\n",
    "import numpy as np\n",
    "from sklearn.tree import DecisionTreeClassifier"
   ]
  },
  {
   "cell_type": "code",
   "execution_count": null,
   "id": "1f93ed22",
   "metadata": {},
   "outputs": [],
   "source": [
    "data = pd.read_csv(\"../data/pima-indians-diabetes.csv\")"
   ]
  },
  {
   "cell_type": "markdown",
   "id": "4ecca166",
   "metadata": {},
   "source": [
    "#### Check Your Data"
   ]
  },
  {
   "cell_type": "code",
   "execution_count": null,
   "id": "b245a79a",
   "metadata": {},
   "outputs": [],
   "source": [
    "# check first 20 rows of the dataset\n",
    "print(data.head(5))"
   ]
  },
  {
   "cell_type": "markdown",
   "id": "c2721342",
   "metadata": {},
   "source": [
    "## Train Test Split"
   ]
  },
  {
   "cell_type": "code",
   "execution_count": null,
   "id": "a39a5e9e",
   "metadata": {},
   "outputs": [],
   "source": [
    "# Load Python library for Train/Test split\n",
    "from sklearn.model_selection import train_test_split"
   ]
  },
  {
   "cell_type": "code",
   "execution_count": null,
   "id": "ed95d5b8",
   "metadata": {},
   "outputs": [],
   "source": [
    "data_array = data.values"
   ]
  },
  {
   "cell_type": "code",
   "execution_count": null,
   "id": "1a618401",
   "metadata": {},
   "outputs": [],
   "source": [
    "# split data into training and testing dataset \n",
    "# Mention about the input variable and target variable (X, y)\n",
    "X = data_array[:,0:8] ## input variables (features set)\n",
    "y = data_array[:,8] ## Target variable (class lables)\n",
    "test_size = 0.2\n",
    "X_train, X_test, y_train, y_test = train_test_split(X, y, test_size=test_size, random_state=42)\n"
   ]
  },
  {
   "attachments": {
    "train_test_split-4.png": {
     "image/png": "[encoded data removed]"
    }
   },
   "cell_type": "markdown",
   "id": "100f36aa",
   "metadata": {},
   "source": [
    "![train_test_split-4.png](attachment:train_test_split-4.png)"
   ]
  },
  {
   "cell_type": "markdown",
   "id": "cb3e8986",
   "metadata": {},
   "source": [
    "## Analyze Train Test Split"
   ]
  },
  {
   "cell_type": "code",
   "execution_count": null,
   "id": "1a324ebd",
   "metadata": {},
   "outputs": [],
   "source": [
    "# First check shape of whole data\n",
    "print(data.shape)"
   ]
  },
  {
   "cell_type": "code",
   "execution_count": null,
   "id": "10dafb87",
   "metadata": {},
   "outputs": [],
   "source": [
    "# Shape of data after train/test split\n",
    "\n",
    "print(f'X_train.shape -> {X_train.shape}\\nX_test.shape -> {X_test.shape}\\ny_train.shape -> {y_train.shape}\\ny_test.shape -> {y_test.shape}')"
   ]
  },
  {
   "cell_type": "code",
   "execution_count": null,
   "id": "28d0e943",
   "metadata": {},
   "outputs": [],
   "source": [
    "print(X_train)\n",
    "print(y_train)\n",
    "print(X_test)\n",
    "print(y_test)"
   ]
  },
  {
   "cell_type": "markdown",
   "id": "77d66a33",
   "metadata": {},
   "source": [
    "## Train a classification model"
   ]
  },
  {
   "cell_type": "code",
   "execution_count": null,
   "id": "b7e53a6c",
   "metadata": {},
   "outputs": [],
   "source": [
    "# Load Python library for classification model\n",
    "from sklearn.tree import DecisionTreeClassifier\n",
    "from sklearn.metrics import accuracy_score"
   ]
  },
  {
   "cell_type": "code",
   "execution_count": null,
   "id": "5e9ca635",
   "metadata": {},
   "outputs": [],
   "source": [
    "# Instantiate the model object\n",
    "clf = DecisionTreeClassifier()\n",
    "# Train the model with Training data\n",
    "clf.fit(X_train, y_train) \n",
    "# Evaluate the model with Testing data\n",
    "result = clf.score(X_test, y_test)\n",
    "\n",
    "print(f\"Accuracy - {result*100.0}\")"
   ]
  },
  {
   "cell_type": "code",
   "execution_count": null,
   "id": "a4a97dd0",
   "metadata": {},
   "outputs": [],
   "source": [
    "# Instantiate the model object\n",
    "clf = DecisionTreeClassifier()\n",
    "# Train the model with training data\n",
    "clf.fit(X_train, y_train) \n",
    "# Predict class label with testing data\n",
    "predictions = clf.predict(X_test)\n",
    "#Evalaute the model predictions against test label\n",
    "accuracy = accuracy_score(y_test, predictions)\n",
    "print(f\"Accuracy - {accuracy*100}\")"
   ]
  },
  {
   "cell_type": "code",
   "execution_count": null,
   "id": "ba8ae424",
   "metadata": {},
   "outputs": [],
   "source": [
    "print(y_test)"
   ]
  },
  {
   "cell_type": "code",
   "execution_count": null,
   "id": "3cde22cb",
   "metadata": {},
   "outputs": [],
   "source": [
    "print(predictions)"
   ]
  },
  {
   "cell_type": "code",
   "execution_count": null,
   "id": "e5a22ed0",
   "metadata": {},
   "outputs": [],
   "source": [
    "# predicted output comparison\n",
    "eval_data = pd.DataFrame(y_test, columns=['ground_truth'])\n",
    "eval_data['predicted_labels'] = predictions.tolist()\n",
    "pd.set_option(\"display.max_rows\", None, \"display.max_columns\", None)\n",
    "print(eval_data)"
   ]
  },
  {
   "cell_type": "markdown",
   "id": "4b6a3c5a",
   "metadata": {},
   "source": [
    "#### Test 2 - random_state = 35"
   ]
  },
  {
   "cell_type": "code",
   "execution_count": null,
   "id": "afd8da75",
   "metadata": {},
   "outputs": [],
   "source": [
    "# test with random_state = 35\n",
    "X_train2, X_test2, y_train2, y_test2 = train_test_split(X, y, test_size=test_size, random_state=35)\n",
    "print(f'X_train2.shape -> {X_train2.shape}\\nX_test2.shape -> {X_test2.shape}')"
   ]
  },
  {
   "cell_type": "code",
   "execution_count": null,
   "id": "cb84b6ce",
   "metadata": {},
   "outputs": [],
   "source": [
    "# Instantiate the model object\n",
    "clf = DecisionTreeClassifier()\n",
    "# Train the model with training data\n",
    "clf.fit(X_train2, y_train2) \n",
    "# Predict class label with testing data\n",
    "predictions = clf.predict(X_test2)\n",
    "#Evalaute the model predictions against test label\n",
    "accuracy = accuracy_score(y_test2, predictions)\n",
    "print(f\"Accuracy - {accuracy*100}\")"
   ]
  },
  {
   "cell_type": "markdown",
   "id": "dd40e7d2",
   "metadata": {},
   "source": [
    "#### Test 2 - random_state = 95"
   ]
  },
  {
   "cell_type": "code",
   "execution_count": null,
   "id": "a995b7c9",
   "metadata": {},
   "outputs": [],
   "source": [
    "# test with random_state = 95\n",
    "X_train3, X_test3, y_train3, y_test3 = train_test_split(X, y, test_size=test_size, random_state=35)\n",
    "print(f'X_train3.shape -> {X_train2.shape}\\nX_test3.shape -> {X_test2.shape}')"
   ]
  },
  {
   "cell_type": "code",
   "execution_count": null,
   "id": "867d4031",
   "metadata": {},
   "outputs": [],
   "source": [
    "# Instantiate the model object\n",
    "clf = DecisionTreeClassifier()\n",
    "# Train the model with training data\n",
    "clf.fit(X_train3, y_train3) \n",
    "# Predict class label with testing data\n",
    "predictions = clf.predict(X_test3)\n",
    "#Evalaute the model predictions against test label\n",
    "accuracy = accuracy_score(y_test3, predictions)\n",
    "print(f\"Accuracy - {accuracy*100}\")"
   ]
  },
  {
   "cell_type": "markdown",
   "id": "3b29b3b9",
   "metadata": {},
   "source": [
    "### Inference\n",
    "\n",
    "- What is the reason of getting different accuracy?\n",
    "- Each time we call **train_test_split** funciton with different values of **random_state** hyperparameter, it provides differnt set of observations for **X_train** and **X_test**. \n",
    "- One solution is to train the model with different **random_state** values\n",
    "- Other solution is **scikit-learn** has automated this process using **cross validation** process"
   ]
  },
  {
   "cell_type": "code",
   "execution_count": null,
   "id": "8b1858cf",
   "metadata": {},
   "outputs": [],
   "source": []
  }
 ],
 "metadata": {
  "kernelspec": {
   "display_name": "Python 3 (ipykernel)",
   "language": "python",
   "name": "python3"
  },
  "language_info": {
   "codemirror_mode": {
    "name": "ipython",
    "version": 3
   },
   "file_extension": ".py",
   "mimetype": "text/x-python",
   "name": "python",
   "nbconvert_exporter": "python",
   "pygments_lexer": "ipython3",
   "version": "3.9.7"
  }
 },
 "nbformat": 4,
 "nbformat_minor": 5
}
