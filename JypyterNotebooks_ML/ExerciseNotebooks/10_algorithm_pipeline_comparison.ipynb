{
 "cells": [
  {
   "cell_type": "markdown",
   "id": "b3fdfaac",
   "metadata": {},
   "source": [
    "\n",
    "\n",
    "## Discussion \n",
    "- Each model have different performance characteristics.\n",
    "\n",
    "#### How to select good ones?\n",
    "- like data visualization, do model accuracy visualization\n",
    "- Use different ways of looking at the estimated accuracy of machine learning algorithms, and select couple of algorithms to finalize.\n",
    "- One way could be to show the average accuracy, variance, and other properties of the distribution of model accuracies. "
   ]
  },
  {
   "cell_type": "markdown",
   "id": "344ea705",
   "metadata": {},
   "source": [
    "## <span style=\"color:red\"> Problem Statement - 1 </span>\n",
    "- Compare multiple different classifiction algorithms\n",
    "    - Logistic Regression\n",
    "    - Linear Discriminant Analysis\n",
    "    - k-Nearest Neighors\n",
    "    - Classification and Regression Trees\n",
    "    - Support Vector Machines"
   ]
  },
  {
   "cell_type": "markdown",
   "id": "958c411e",
   "metadata": {},
   "source": [
    "#### Load Python libraries and dataset"
   ]
  },
  {
   "cell_type": "code",
   "execution_count": null,
   "id": "dec6729e",
   "metadata": {},
   "outputs": [],
   "source": [
    "import pandas as pd\n",
    "from matplotlib import pyplot\n",
    "from sklearn.model_selection import KFold\n",
    "from sklearn.model_selection import cross_val_score\n",
    "from sklearn.preprocessing import StandardScaler\n",
    "from sklearn.linear_model import LogisticRegression\n",
    "from sklearn.tree import DecisionTreeClassifier\n",
    "from sklearn.neighbors import KNeighborsClassifier\n",
    "from sklearn.discriminant_analysis import LinearDiscriminantAnalysis\n",
    "from sklearn.naive_bayes import GaussianNB\n",
    "from sklearn.svm import SVC\n",
    "from numpy import set_printoptions\n",
    "\n",
    "from sklearn import datasets\n"
   ]
  },
  {
   "cell_type": "code",
   "execution_count": null,
   "id": "3ef36ef3",
   "metadata": {},
   "outputs": [],
   "source": [
    "data = pd.read_csv(\"../data/pima-indians-diabetes.csv\")"
   ]
  },
  {
   "cell_type": "markdown",
   "id": "7e8e26b8",
   "metadata": {},
   "source": [
    "#### Check Your Data"
   ]
  },
  {
   "cell_type": "code",
   "execution_count": null,
   "id": "46d91a7d",
   "metadata": {},
   "outputs": [],
   "source": [
    "# check first 5 rows of the dataset\n",
    "print(data.head(5))"
   ]
  },
  {
   "cell_type": "markdown",
   "id": "a394e671",
   "metadata": {},
   "source": [
    "### Separate input and target variables"
   ]
  },
  {
   "cell_type": "code",
   "execution_count": null,
   "id": "0ee4b892",
   "metadata": {},
   "outputs": [],
   "source": [
    "# sseparate input and target variable\n",
    "data_array = data.values\n",
    "_X = data_array[:,0:8]\n",
    "y = data_array[:,8]\n",
    "\n",
    "# instantiate StandardScaler class and fit on data \n",
    "scaler = StandardScaler().fit(_X)\n",
    "X = scaler.transform(_X)"
   ]
  },
  {
   "cell_type": "markdown",
   "id": "67cd778c",
   "metadata": {},
   "source": [
    "### Prepare classification models"
   ]
  },
  {
   "cell_type": "code",
   "execution_count": null,
   "id": "827012d6",
   "metadata": {},
   "outputs": [],
   "source": [
    "models_clf = []\n",
    "models_clf.append(('LR', LogisticRegression()))\n",
    "models_clf.append(('LDA', LinearDiscriminantAnalysis()))\n",
    "models_clf.append(('KNN', KNeighborsClassifier()))\n",
    "models_clf.append(('CART', DecisionTreeClassifier()))\n",
    "models_clf.append(('NB', GaussianNB()))\n",
    "models_clf.append(('SVM', SVC()))\n",
    "print(models_clf)"
   ]
  },
  {
   "cell_type": "markdown",
   "id": "2f42f6a0",
   "metadata": {},
   "source": [
    "### Evaluate each model"
   ]
  },
  {
   "cell_type": "code",
   "execution_count": null,
   "id": "25f8e133",
   "metadata": {},
   "outputs": [],
   "source": [
    "results = []\n",
    "names = []\n",
    "\n",
    "print(f'Mean (s.d.) of accuracy for each algorithm\\n==========================================')\n",
    "for name, model in models_clf:\n",
    "    kfold = KFold(n_splits=10)\n",
    "    cv_results = cross_val_score(model, X, y, cv=kfold, scoring='accuracy')\n",
    "    results.append(cv_results)\n",
    "    names.append(name)\n",
    "    #print(cv_results)\n",
    "    result = \"%s: %f (%f)\" % (name, cv_results.mean(), cv_results.std())\n",
    "    print(result)\n"
   ]
  },
  {
   "cell_type": "code",
   "execution_count": null,
   "id": "0a135915",
   "metadata": {},
   "outputs": [],
   "source": [
    "# boxplot algorithm comparison\n",
    "fig = pyplot.figure(figsize=(12, 12))\n",
    "fig.suptitle('Algorithm Comparison')\n",
    "ax = fig.add_subplot(111)\n",
    "pyplot.boxplot(results)\n",
    "ax.set_xticklabels(names)\n",
    "pyplot.show()"
   ]
  },
  {
   "cell_type": "markdown",
   "id": "d4128a63",
   "metadata": {},
   "source": [
    "### Box plots shows the spread of accuracy scores across each cross validation fold for each algorithm."
   ]
  },
  {
   "cell_type": "code",
   "execution_count": null,
   "id": "3ba637a4",
   "metadata": {},
   "outputs": [],
   "source": []
  },
  {
   "cell_type": "markdown",
   "id": "e2a209e1",
   "metadata": {},
   "source": [
    "## <span style=\"color:red\"> Problem Statement - 2 </span>\n",
    "- Compare multiple different regression algorithms\n",
    "    - Linear Regression\n",
    "    - Ridge Regression\n",
    "    - LASSO Linear Regression\n",
    "    - Elastic Net Regression\n",
    "    - Classification and Regression Trees\n",
    "    - Support Vector Machines"
   ]
  },
  {
   "cell_type": "code",
   "execution_count": null,
   "id": "4517e168",
   "metadata": {},
   "outputs": [],
   "source": [
    "import pandas as pd\n",
    "from matplotlib import pyplot\n",
    "from sklearn.linear_model import LinearRegression\n",
    "from sklearn.linear_model import Ridge\n",
    "from sklearn.linear_model import Lasso\n",
    "from sklearn.linear_model import ElasticNet\n",
    "from sklearn.neighbors import KNeighborsRegressor\n",
    "from sklearn.tree import DecisionTreeRegressor\n",
    "from sklearn.svm import SVR\n",
    "from sklearn.model_selection import KFold\n",
    "from sklearn.model_selection import cross_val_score\n",
    "from sklearn.preprocessing import StandardScaler\n",
    "\n",
    "from numpy import set_printoptions\n",
    "\n",
    "from sklearn import datasets\n"
   ]
  },
  {
   "cell_type": "code",
   "execution_count": null,
   "id": "730853cc",
   "metadata": {},
   "outputs": [],
   "source": [
    "# Load Dataset\n",
    "import warnings\n",
    "with warnings.catch_warnings():\n",
    "    warnings.filterwarnings(\"ignore\")\n",
    "    boston = datasets.load_boston()\n",
    "\n",
    "data = pd.DataFrame(boston.data, columns = boston.feature_names)\n",
    "data['PRICE'] = boston.target\n",
    "\n",
    "with pd.option_context('expand_frame_repr', False):\n",
    "    print(data.head(5))"
   ]
  },
  {
   "cell_type": "code",
   "execution_count": null,
   "id": "241c2531",
   "metadata": {},
   "outputs": [],
   "source": [
    "data_array = data.values\n",
    "# split data into train and test \n",
    "X2 = data_array[:,0:13]\n",
    "y2 = data_array[:,13]"
   ]
  },
  {
   "cell_type": "markdown",
   "id": "6305e18d",
   "metadata": {},
   "source": [
    "### Prepare regression models"
   ]
  },
  {
   "cell_type": "code",
   "execution_count": null,
   "id": "8a89ed92",
   "metadata": {},
   "outputs": [],
   "source": [
    "models_reg = []\n",
    "models_reg.append(('LR', LinearRegression()))\n",
    "models_reg.append(('Ridge', Ridge()))\n",
    "models_reg.append(('Lasso', Lasso()))\n",
    "models_reg.append(('EN', ElasticNet()))\n",
    "models_reg.append(('KNR', KNeighborsRegressor()))\n",
    "models_reg.append(('CART', DecisionTreeRegressor()))\n",
    "models_reg.append(('SVM', SVR()))\n",
    "print(models_reg)"
   ]
  },
  {
   "cell_type": "code",
   "execution_count": null,
   "id": "e3fb3adb",
   "metadata": {},
   "outputs": [],
   "source": [
    "results2 = []\n",
    "names2 = []\n",
    "\n",
    "print(f'Mean (s.d.) of accuracy for each algorithm\\n==========================================')\n",
    "for name2, model2 in models_reg:\n",
    "    kfold = KFold(n_splits=10)\n",
    "    cv_results = cross_val_score(model2, X2, y2, cv=kfold, scoring='neg_mean_squared_error')\n",
    "    results2.append(cv_results)\n",
    "    names2.append(name2)\n",
    "    #print(cv_results)\n",
    "    result2 = \"%s: %f (%f)\" % (name2, cv_results.mean(), cv_results.std())\n",
    "    print(result2)\n"
   ]
  },
  {
   "cell_type": "code",
   "execution_count": null,
   "id": "efb3a0e5",
   "metadata": {},
   "outputs": [],
   "source": [
    "# boxplot algorithm comparison\n",
    "fig = pyplot.figure(figsize=(10, 10))\n",
    "fig.suptitle('Algorithm Comparison')\n",
    "ax = fig.add_subplot(111)\n",
    "pyplot.boxplot(results2)\n",
    "ax.set_xticklabels(names2)\n",
    "pyplot.show()"
   ]
  },
  {
   "cell_type": "code",
   "execution_count": null,
   "id": "adffb492",
   "metadata": {},
   "outputs": [],
   "source": []
  },
  {
   "cell_type": "markdown",
   "id": "b7d56459",
   "metadata": {},
   "source": [
    "## <span style=\"color:red\"> Problem Statement - 3 </span>\n",
    "- Compare different Pipelines"
   ]
  },
  {
   "cell_type": "code",
   "execution_count": null,
   "id": "361a077a",
   "metadata": {},
   "outputs": [],
   "source": [
    "from sklearn.pipeline import Pipeline\n",
    "pipelines = []\n",
    "pipelines.append(('LR_pipe', Pipeline([('Scaler', StandardScaler()), ('LR',LinearRegression())])))\n",
    "pipelines.append(('Ridge_pipe', Pipeline([('Scaler', StandardScaler()), ('LR',Ridge())])))\n",
    "pipelines.append(('LASSO_pipe', Pipeline([('Scaler', StandardScaler()), ('LASSO',Lasso())])))\n",
    "pipelines.append(('EN_pipe', Pipeline([('Scaler', StandardScaler()), ('EN',ElasticNet())])))\n",
    "pipelines.append(('KNN_pipe', Pipeline([('Scaler', StandardScaler()), ('KNN',KNeighborsRegressor())])))\n",
    "pipelines.append(('CART_pipe', Pipeline([('Scaler', StandardScaler()), ('CART',DecisionTreeRegressor())])))\n",
    "pipelines.append(('SVR_pipe', Pipeline([('Scaler', StandardScaler()), ('SVR', SVR())])))"
   ]
  },
  {
   "cell_type": "code",
   "execution_count": null,
   "id": "bbf37779",
   "metadata": {},
   "outputs": [],
   "source": [
    "results3 = []\n",
    "names3 = []\n",
    "print(f'Mean (s.d.) of accuracy for each algorithm\\n==========================================')\n",
    "for name3, pipe in pipelines:\n",
    "    kfold = KFold(n_splits=10)\n",
    "    cv_results3 = cross_val_score(pipe, X, y, cv=kfold, scoring='neg_mean_squared_error')\n",
    "    results3.append(cv_results3)\n",
    "    names3.append(name3)\n",
    "    result3 = \"%s: %f (%f)\" % (name3, cv_results3.mean(), cv_results3.std())\n",
    "    print(result3)"
   ]
  },
  {
   "cell_type": "code",
   "execution_count": null,
   "id": "c4c75fdf",
   "metadata": {},
   "outputs": [],
   "source": [
    "# boxplot algorithm comparison\n",
    "fig = pyplot.figure(figsize=(10, 10))\n",
    "fig.suptitle('Algorithm Comparison')\n",
    "ax = fig.add_subplot(111)\n",
    "pyplot.boxplot(results3)\n",
    "ax.set_xticklabels(names3)\n",
    "pyplot.show()"
   ]
  }
 ],
 "metadata": {
  "kernelspec": {
   "display_name": "Python 3 (ipykernel)",
   "language": "python",
   "name": "python3"
  },
  "language_info": {
   "codemirror_mode": {
    "name": "ipython",
    "version": 3
   },
   "file_extension": ".py",
   "mimetype": "text/x-python",
   "name": "python",
   "nbconvert_exporter": "python",
   "pygments_lexer": "ipython3",
   "version": "3.9.7"
  }
 },
 "nbformat": 4,
 "nbformat_minor": 5
}
