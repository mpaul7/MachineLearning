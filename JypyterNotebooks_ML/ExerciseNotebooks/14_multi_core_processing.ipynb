{
 "cells": [
  {
   "cell_type": "markdown",
   "id": "7a58905f",
   "metadata": {},
   "source": [
    "## Discussion\n",
    "- Manay computationally expensive tasks in ML can be processed parallelly by splitting the work across CPU cores.\n",
    "- Common ML tasks that can be made parallel are: \n",
    "    - Ensamble of decision trees (For example Random Forest classifier)\n",
    "    - Evaluating model using resaampling procedure (For exaample- k-fold cross validation)\n",
    "    - Tuning hyperparameters (For example - Grid search)\n",
    "- Using multiple cores can significantly decrease the execution time. \n",
    "\n",
    "### Scikit-learn capability for paraller processing\n",
    "- scikit-learn provides this capability using **n_jobs** argument.\n"
   ]
  },
  {
   "cell_type": "code",
   "execution_count": null,
   "id": "cbb5d3cd",
   "metadata": {},
   "outputs": [],
   "source": [
    "# Load libraries \n",
    "from time import time\n",
    "from sklearn.datasets import make_classification\n",
    "from sklearn.ensemble import RandomForestClassifier\n",
    "from matplotlib import pyplot"
   ]
  },
  {
   "cell_type": "markdown",
   "id": "b3ef908b",
   "metadata": {},
   "source": [
    "### Multicore: Model Train"
   ]
  },
  {
   "cell_type": "code",
   "execution_count": null,
   "id": "3a164b9f",
   "metadata": {},
   "outputs": [],
   "source": [
    "# define dataset\n",
    "X, y = make_classification(n_samples=10000, n_features=20, n_informative=15, n_redundant=5, random_state=3)\n",
    "\n",
    "results = []\n",
    "n_cores = [1, 2, 3, 4, 5, 6, 7, 8]\n",
    "for n in n_cores:\n",
    "    start = time()\n",
    "    model = RandomForestClassifier(n_estimators=500, n_jobs=n)\n",
    "    model.fit(X, y)\n",
    "    end = time()\n",
    "    result = end - start\n",
    "    print(f'{n} -> seconds - {result}')\n",
    "    results.append(result)\n",
    "pyplot.plot(n_cores, results)\n",
    "pyplot.show()"
   ]
  },
  {
   "cell_type": "markdown",
   "id": "468d6ffa",
   "metadata": {},
   "source": [
    "### Multicore: Model Evaluation"
   ]
  },
  {
   "cell_type": "code",
   "execution_count": null,
   "id": "417f6ed8",
   "metadata": {},
   "outputs": [],
   "source": [
    "# Load lobraries \n",
    "from sklearn.model_selection import cross_val_score\n",
    "from sklearn.model_selection import RepeatedStratifiedKFold"
   ]
  },
  {
   "cell_type": "code",
   "execution_count": null,
   "id": "1a157509",
   "metadata": {},
   "outputs": [],
   "source": [
    "# define dataset\n",
    "X, y = make_classification(n_samples=10000, n_features=20, n_informative=15, n_redundant=5, random_state=3)\n",
    "results = []\n",
    "n_cores = [1, 2, 3, 4, 5, 6, 7, 8]\n",
    "for n in n_cores:\n",
    "    model = RandomForestClassifier(n_estimators=100, n_jobs=1)\n",
    "    kfold = RepeatedStratifiedKFold(n_splits=10, n_repeats=3)\n",
    "    start = time()\n",
    "    n_scores = cross_val_score(model, X, y, scoring='accuracy', cv=kfold, n_jobs=n)\n",
    "    end = time()\n",
    "    result = end - start\n",
    "    print(f'{n} -> seconds - {result}')\n",
    "    results.append(result)\n",
    "pyplot.plot(n_cores, results)\n",
    "pyplot.show()"
   ]
  },
  {
   "cell_type": "markdown",
   "id": "51811c77",
   "metadata": {},
   "source": [
    "## Model training process parallel along with model evaluation\n",
    "- make n_jobs=4 for model\n",
    "- make n_jobs=4 for cross_val_score"
   ]
  },
  {
   "cell_type": "markdown",
   "id": "f5b2b929",
   "metadata": {},
   "source": [
    "## Multi-core Hyperparameter Tuning"
   ]
  },
  {
   "cell_type": "code",
   "execution_count": null,
   "id": "310c41ab",
   "metadata": {},
   "outputs": [],
   "source": [
    "# Load Libraries\n",
    "from sklearn.model_selection import GridSearchCV"
   ]
  },
  {
   "cell_type": "code",
   "execution_count": null,
   "id": "41e4a78d",
   "metadata": {},
   "outputs": [],
   "source": [
    "\n",
    "# define dataset\n",
    "X, y = make_classification(n_samples=1000, n_features=20, n_informative=15, n_redundant=5, random_state=3)\n",
    "\n",
    "model = RandomForestClassifier(n_estimators=100, n_jobs=4)\n",
    "cv = RepeatedStratifiedKFold(n_splits=10, n_repeats=3)\n",
    "\n",
    "# define grid\n",
    "grid = dict()\n",
    "grid['n_estimators'] = [25, 50, 75, 95]\n",
    "# define grid search\n",
    "n_cores = [1, 2, 3, 4, 5, 6, 7, 8]\n",
    "for n in n_cores:\n",
    "    gs = GridSearchCV(model, grid, n_jobs=n, cv=cv)# record current tim\n",
    "    start = time()\n",
    "    gs.fit(X, y)\n",
    "    end = time()\n",
    "    result = end - start\n",
    "    print(f'{n} -> seconds - {result}')"
   ]
  },
  {
   "cell_type": "code",
   "execution_count": null,
   "id": "973fd8a6",
   "metadata": {},
   "outputs": [],
   "source": []
  },
  {
   "cell_type": "code",
   "execution_count": null,
   "id": "e4d30722-c641-47a2-8303-1927c39ec4e5",
   "metadata": {},
   "outputs": [],
   "source": []
  }
 ],
 "metadata": {
  "kernelspec": {
   "display_name": "Python 3 (ipykernel)",
   "language": "python",
   "name": "python3"
  },
  "language_info": {
   "codemirror_mode": {
    "name": "ipython",
    "version": 3
   },
   "file_extension": ".py",
   "mimetype": "text/x-python",
   "name": "python",
   "nbconvert_exporter": "python",
   "pygments_lexer": "ipython3",
   "version": "3.9.7"
  }
 },
 "nbformat": 4,
 "nbformat_minor": 5
}
