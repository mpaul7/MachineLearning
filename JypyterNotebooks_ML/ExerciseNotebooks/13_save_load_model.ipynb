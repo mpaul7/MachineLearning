{
 "cells": [
  {
   "cell_type": "markdown",
   "id": "cb380fcf",
   "metadata": {},
   "source": [
    "### Problem Statement\n",
    "- How to save and load a machine learning model\n",
    "\n",
    "#### Discussion\n",
    "- Pickle and Joblib is a standard way of serializing objects in Python. \n",
    "- These libraries can be used to serialize machine learning algorithms and save the serialized format to a file.\n",
    "- Later on load the file to deserialize the model and use it to make predictions. "
   ]
  },
  {
   "cell_type": "code",
   "execution_count": null,
   "id": "7559e520",
   "metadata": {},
   "outputs": [],
   "source": [
    "#### Load libraries and dataset \n",
    "import pandas as pd\n",
    "from sklearn.model_selection import train_test_split\n",
    "from sklearn.tree import DecisionTreeClassifier\n",
    "from matplotlib import pyplot "
   ]
  },
  {
   "cell_type": "code",
   "execution_count": null,
   "id": "070fb627",
   "metadata": {},
   "outputs": [],
   "source": [
    "data = pd.read_csv(\"../data/pima-indians-diabetes.csv\")"
   ]
  },
  {
   "cell_type": "code",
   "execution_count": null,
   "id": "d339e6b1",
   "metadata": {},
   "outputs": [],
   "source": [
    "# separate array into input and output components\n",
    "data_array = data.values\n",
    "X = data_array[:,0:8]\n",
    "y = data_array[:,8]"
   ]
  },
  {
   "cell_type": "code",
   "execution_count": null,
   "id": "09a8e2c2",
   "metadata": {},
   "outputs": [],
   "source": [
    "# split train/test \n",
    "test_size = 0.2\n",
    "X_train, X_test, y_train, y_test = train_test_split(X, y, test_size=test_size, random_state=42)"
   ]
  },
  {
   "cell_type": "code",
   "execution_count": null,
   "id": "c61570a6",
   "metadata": {},
   "outputs": [],
   "source": [
    "# Instantiate Decision Tree classifier\n",
    "model = DecisionTreeClassifier()\n",
    "\n",
    "# Train the model\n",
    "model.fit(X_train, y_train)"
   ]
  },
  {
   "cell_type": "markdown",
   "id": "aa280ca7",
   "metadata": {},
   "source": [
    "## <span style=\"color:red\"> Save the model using Pickle to disk</span>"
   ]
  },
  {
   "cell_type": "code",
   "execution_count": null,
   "id": "1af0eadf",
   "metadata": {},
   "outputs": [],
   "source": [
    "# Load Pickle library to save and load model\n",
    "from pickle import dump as dump_pickle\n",
    "from pickle import load as load_pickle"
   ]
  },
  {
   "cell_type": "code",
   "execution_count": null,
   "id": "175784b8",
   "metadata": {},
   "outputs": [],
   "source": [
    "filename_pickle = 'model_pickle.sav'\n",
    "dump_pickle(model, open(filename_pickle, 'wb'))"
   ]
  },
  {
   "cell_type": "markdown",
   "id": "1854559c",
   "metadata": {},
   "source": [
    "### Load the Pickle model from disk"
   ]
  },
  {
   "cell_type": "code",
   "execution_count": null,
   "id": "0579a250",
   "metadata": {},
   "outputs": [],
   "source": [
    "pickle_model = load_pickle(open('model_pickle.sav', 'rb'))"
   ]
  },
  {
   "cell_type": "markdown",
   "id": "3242c902",
   "metadata": {},
   "source": [
    "### Evalaute loaded model"
   ]
  },
  {
   "cell_type": "code",
   "execution_count": null,
   "id": "6b65e149",
   "metadata": {},
   "outputs": [],
   "source": [
    "result = (pickle_model.score(X_test, y_test))\n",
    "print(f'Model accuracy\\n==============\\n{result}')"
   ]
  },
  {
   "cell_type": "markdown",
   "id": "65449ced",
   "metadata": {},
   "source": [
    "## <span style=\"color:red\"> Save the model using Joblib to disk</span>"
   ]
  },
  {
   "cell_type": "code",
   "execution_count": null,
   "id": "2c598c43-f832-494c-85b3-9d31217fd9dc",
   "metadata": {},
   "outputs": [],
   "source": [
    "# Load Joblib library to save and load model\n",
    "!pip install joblib\n",
    "import joblib as jl"
   ]
  },
  {
   "cell_type": "code",
   "execution_count": null,
   "id": "0272c318",
   "metadata": {},
   "outputs": [],
   "source": [
    "filename_joblib =  'model_joblib.sav'\n",
    "jl.dump(model, open(filename_joblib, 'wb'))"
   ]
  },
  {
   "cell_type": "markdown",
   "id": "70917dc5",
   "metadata": {},
   "source": [
    "### Load the Joblib model from disk"
   ]
  },
  {
   "cell_type": "code",
   "execution_count": null,
   "id": "be4f2f36",
   "metadata": {},
   "outputs": [],
   "source": [
    "joblib_model = jl.load(open('model_joblib.sav', 'rb'))"
   ]
  },
  {
   "cell_type": "markdown",
   "id": "6b86f35a",
   "metadata": {},
   "source": [
    "### Evalaute loaded model"
   ]
  },
  {
   "cell_type": "code",
   "execution_count": null,
   "id": "b3b45ab0",
   "metadata": {},
   "outputs": [],
   "source": [
    "result = (joblib_model.score(X_test, y_test))\n",
    "print(f'Model accuracy\\n==============\\n{result}')"
   ]
  }
 ],
 "metadata": {
  "kernelspec": {
   "display_name": "Python 3 (ipykernel)",
   "language": "python",
   "name": "python3"
  },
  "language_info": {
   "codemirror_mode": {
    "name": "ipython",
    "version": 3
   },
   "file_extension": ".py",
   "mimetype": "text/x-python",
   "name": "python",
   "nbconvert_exporter": "python",
   "pygments_lexer": "ipython3",
   "version": "3.9.7"
  }
 },
 "nbformat": 4,
 "nbformat_minor": 5
}
