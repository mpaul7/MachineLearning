{
 "cells": [
  {
   "cell_type": "markdown",
   "id": "b3fdfaac",
   "metadata": {},
   "source": [
    "## Problem Statement\n",
    "- Build a machine learning pipeline and optimize\n",
    "\n",
    "#### Prerequisite \n",
    "- Grid search parameter tuning\n",
    "- Also called **hyperparameter optimization**\n",
    "- scikit-learn provides **GridSearchCV()** class"
   ]
  },
  {
   "cell_type": "markdown",
   "id": "958c411e",
   "metadata": {},
   "source": [
    "#### Load Python libraries and dataset"
   ]
  },
  {
   "cell_type": "code",
   "execution_count": null,
   "id": "dec6729e",
   "metadata": {},
   "outputs": [],
   "source": [
    "import pandas as pd\n",
    "from sklearn.preprocessing import StandardScaler, Normalizer, MinMaxScaler\n",
    "from sklearn.model_selection import KFold\n",
    "from sklearn.tree import DecisionTreeClassifier\n",
    "from sklearn.model_selection import cross_val_score\n",
    "from numpy import set_printoptions\n",
    "from sklearn.pipeline import Pipeline"
   ]
  },
  {
   "cell_type": "code",
   "execution_count": null,
   "id": "3ef36ef3",
   "metadata": {},
   "outputs": [],
   "source": [
    "data = pd.read_csv(\"../data/pima-indians-diabetes.csv\")"
   ]
  },
  {
   "cell_type": "markdown",
   "id": "7e8e26b8",
   "metadata": {},
   "source": [
    "#### Check Your Data"
   ]
  },
  {
   "cell_type": "code",
   "execution_count": null,
   "id": "46d91a7d",
   "metadata": {},
   "outputs": [],
   "source": [
    "# check first 20 rows of the dataset\n",
    "print(data.head(5))"
   ]
  },
  {
   "cell_type": "markdown",
   "id": "a394e671",
   "metadata": {},
   "source": [
    "### Separate input and target variables"
   ]
  },
  {
   "cell_type": "code",
   "execution_count": null,
   "id": "0ee4b892",
   "metadata": {},
   "outputs": [],
   "source": [
    "# separate inout and target variables\n",
    "data_array = data.values\n",
    "X = data_array[:,0:8]\n",
    "y = data_array[:,8]\n"
   ]
  },
  {
   "cell_type": "markdown",
   "id": "30e2e225",
   "metadata": {},
   "source": [
    "## <span style=\"color:red\"> Grid Search Parameter Tuning</span>\n",
    "\n",
    "- Grid search is used for parameter tuning\n",
    "- It will evaluate the model for each combination of algorithm parameters specified in the grid.\n"
   ]
  },
  {
   "cell_type": "markdown",
   "id": "3c67d3e9",
   "metadata": {},
   "source": [
    "### Problem Statement\n",
    "\n",
    "- Create a classifier using **RandomForestClassifier** algorithm\n",
    "- Tune the number of trees in the classifier and get the best parameter for the model."
   ]
  },
  {
   "cell_type": "markdown",
   "id": "9539d214",
   "metadata": {},
   "source": [
    "class sklearn.ensemble.RandomForestClassifier(**n_estimators=100**, *, criterion='gini', max_depth=None, min_samples_split=2, min_samples_leaf=1, min_weight_fraction_leaf=0.0, max_features='auto', max_leaf_nodes=None, min_impurity_decrease=0.0, bootstrap=True, oob_score=False, n_jobs=None, random_state=None, verbose=0, warm_start=False, class_weight=None, ccp_alpha=0.0, max_samples=None)"
   ]
  },
  {
   "cell_type": "code",
   "execution_count": null,
   "id": "aa18382a",
   "metadata": {},
   "outputs": [],
   "source": [
    "# Load Python libraries\n",
    "from sklearn.ensemble import RandomForestClassifier\n",
    "from sklearn.model_selection import GridSearchCV"
   ]
  },
  {
   "cell_type": "code",
   "execution_count": null,
   "id": "4179db24",
   "metadata": {},
   "outputs": [],
   "source": [
    "# Create parameter grid \n",
    "param_grid = {'n_estimators': [25, 50, 75, 95]}\n",
    "\n",
    "# create base model\n",
    "clf  = RandomForestClassifier()\n",
    "\n",
    "# Instantiate the grid search \n",
    "grid = GridSearchCV(estimator=clf, param_grid=param_grid, cv=5)\n",
    "grid.fit(X, y)\n",
    "\n",
    "print(f'Best Score -> {grid.best_score_}')\n",
    "print(f'Selected best estimator -> {grid.best_estimator_}')\n",
    "\n"
   ]
  },
  {
   "cell_type": "markdown",
   "id": "c41dca6d",
   "metadata": {},
   "source": [
    "## <span style=\"color:red\"> ML Pipeline Tuning - 1</span>\n",
    "\n",
    "### Problem Statement\n",
    "\n",
    "- Create a pipeline and tune the hyperparameters of the workflows and optimize the pipline.\n",
    "### [input] - [standardize] - [feature-selection] - [classifier] - [predictions]"
   ]
  },
  {
   "cell_type": "code",
   "execution_count": null,
   "id": "0c4a7353",
   "metadata": {},
   "outputs": [],
   "source": [
    "from sklearn.feature_selection import SelectKBest\n",
    "from sklearn.tree import DecisionTreeClassifier\n",
    "\n",
    "# define pipeline workflows\n",
    "estimator = []\n",
    "estimator.append(('scaler', StandardScaler()))\n",
    "estimator.append(('select_best', SelectKBest()))\n",
    "estimator.append(('clf', RandomForestClassifier()))\n",
    "\n",
    "\n",
    "# instantiate Pipeline class with pipeline workflows\n",
    "pipe = Pipeline(estimator)\n",
    "\n",
    "# create grid for pipeline\n",
    "parameters = {'scaler': [StandardScaler(), MinMaxScaler(), Normalizer()], \n",
    "             'select_best__k':[4, 5, 6], \n",
    "             'clf__n_estimators': [25, 50, 75, 95]}\n",
    "\n",
    "# Instantiate GridSearchCV() class\n",
    "grid = GridSearchCV(pipe, parameters, cv=5)\n",
    "\n",
    "# fir the grid\n",
    "grid.fit(X, y)\n",
    "\n",
    "# access the best set of parameters\n",
    "best_params = grid.best_params_\n",
    "print(f'Best parameters for workflows \\n==============================\\n{best_params}\\n')\n",
    "\n",
    "# stores the optimum model in best_pipe\n",
    "best_pipe = grid.best_estimator_\n",
    "print(f'Best Pipeline\\n============== \\n{best_pipe}')\n"
   ]
  },
  {
   "cell_type": "code",
   "execution_count": null,
   "id": "383d2c23",
   "metadata": {},
   "outputs": [],
   "source": [
    "# Analyze results\n",
    "# Store results in a DataFrame for better visualization\n",
    "df = pd.DataFrame.from_dict(grid.cv_results_, orient='columns')\n",
    "\n",
    "# Columns of the DataFrame\n",
    "print(df.columns)"
   ]
  },
  {
   "cell_type": "code",
   "execution_count": null,
   "id": "82620cc4",
   "metadata": {},
   "outputs": [],
   "source": [
    "pd.set_option(\"display.max_rows\", None, \"display.max_columns\", None)\n",
    "print(df)"
   ]
  },
  {
   "cell_type": "code",
   "execution_count": null,
   "id": "d1f4148a",
   "metadata": {},
   "outputs": [],
   "source": [
    "import matplotlib.pyplot as plt                      \n",
    "import seaborn as sns\n",
    "sns.relplot(data=df, kind='line', x='param_clf__n_estimators', \n",
    "            y='mean_test_score',hue='param_scaler', col='param_select_best__k')\n",
    "plt.show()"
   ]
  },
  {
   "cell_type": "markdown",
   "id": "28ee005f",
   "metadata": {},
   "source": [
    "## <span style=\"color:red\"> ML Pipeline Tuning  - 2 </span>\n",
    "\n",
    "### Problem Statement\n",
    "\n",
    "- Create a pipeline and tune the hyperparameters of the workflows and optimize the pipline.\n",
    "### [input] - [standardize] - [feature-selection] - [classifier] - [predictions]"
   ]
  },
  {
   "cell_type": "code",
   "execution_count": null,
   "id": "5c6de766",
   "metadata": {},
   "outputs": [],
   "source": [
    "from sklearn.feature_selection import SelectKBest\n",
    "from sklearn.tree import DecisionTreeClassifier\n",
    "from sklearn.linear_model import LogisticRegression\n",
    "# define pipeline workflows\n",
    "estimator2 = []\n",
    "estimator2.append(('scaler', StandardScaler()))\n",
    "estimator2.append(('select_best', SelectKBest()))\n",
    "estimator2.append(('clf', DecisionTreeClassifier()))\n",
    "\n",
    "\n",
    "\n",
    "# instantiate Pipeline class with pipeline workflows\n",
    "pipe2 = Pipeline(estimator2)\n",
    "\n",
    "# create grid for pipeline\n",
    "parameters2 = {'scaler': [StandardScaler(), MinMaxScaler(), Normalizer()], \n",
    "             'select_best__k':[4, 5, 6], \n",
    "             'clf': [DecisionTreeClassifier(), LogisticRegression()]}\n",
    "\n",
    "# Instantiate GridSearchCV() class\n",
    "grid2 = GridSearchCV(pipe2, parameters2, cv=5)\n",
    "\n",
    "# fir the grid\n",
    "grid2.fit(X, y)\n",
    "\n",
    "# access the best set of parameters\n",
    "best_params = grid2.best_params_\n",
    "print(f'Best parameters for workflows \\n==============================\\n{best_params}\\n')\n",
    "\n",
    "# stores the optimum model in best_pipe\n",
    "best_pipe = grid2.best_estimator_\n",
    "print(f'Best Pipeline\\n============== \\n{best_pipe}')"
   ]
  },
  {
   "cell_type": "code",
   "execution_count": null,
   "id": "0c634bf4",
   "metadata": {},
   "outputs": [],
   "source": [
    "# Analyze results\n",
    "# Store results in a DataFrame for better visualization\n",
    "df2 = pd.DataFrame.from_dict(grid2.cv_results_, orient='columns')\n",
    "\n",
    "# Columns of the DataFrame\n",
    "print(df2.columns)"
   ]
  },
  {
   "cell_type": "code",
   "execution_count": null,
   "id": "75c392d1",
   "metadata": {},
   "outputs": [],
   "source": [
    "pd.set_option(\"display.max_rows\", None, \"display.max_columns\", None)\n",
    "print(df2)"
   ]
  }
 ],
 "metadata": {
  "kernelspec": {
   "display_name": "Python 3 (ipykernel)",
   "language": "python",
   "name": "python3"
  },
  "language_info": {
   "codemirror_mode": {
    "name": "ipython",
    "version": 3
   },
   "file_extension": ".py",
   "mimetype": "text/x-python",
   "name": "python",
   "nbconvert_exporter": "python",
   "pygments_lexer": "ipython3",
   "version": "3.9.7"
  }
 },
 "nbformat": 4,
 "nbformat_minor": 5
}
